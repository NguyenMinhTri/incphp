{
 "cells": [
  {
   "cell_type": "code",
   "execution_count": null,
   "metadata": {
    "collapsed": true
   },
   "outputs": [],
   "source": [
    "import json\n",
    "imageExportPath = '/home/steohan/ma/thesis/sat-paper/images/'\n",
    "with open('/home/steohan/ma/thesis/benchresults/incphp/sat-paper-run1.json', 'r') as jsonFile:\n",
    "    config = json.loads(jsonFile.read())"
   ]
  },
  {
   "cell_type": "code",
   "execution_count": null,
   "metadata": {
    "collapsed": true
   },
   "outputs": [],
   "source": [
    "confIds = dict()\n",
    "for experiment in config[\"runResults\"]:\n",
    "    conf = json.dumps(experiment[\"conf\"][\"setup\"], indent=4)\n",
    "    confId = hash(conf)\n",
    "    confIds[confId] = conf"
   ]
  },
  {
   "cell_type": "code",
   "execution_count": null,
   "metadata": {
    "collapsed": false
   },
   "outputs": [],
   "source": [
    "import math\n",
    "\n",
    "\n",
    "def computeName(x):\n",
    "    name = ''\n",
    "    if (not x['conf.setup.incremental']):\n",
    "        name += 'non incr. '\n",
    "    if x['conf.setup.variant.alternate']:\n",
    "        name += 'exhaustive '\n",
    "    if x['conf.setup.variant.3sat']:\n",
    "        name += '3SAT '\n",
    "    if x['conf.setup.variant.addAssumed']:\n",
    "        name += 'force learn '\n",
    "    if x['conf.setup.variant.extendedResolution']:\n",
    "        name += 'ext. resolution '\n",
    "    if x['conf.setup.record']:\n",
    "        name += ''\n",
    "    if name == '':\n",
    "        name += 'naive'\n",
    "    return name"
   ]
  },
  {
   "cell_type": "code",
   "execution_count": null,
   "metadata": {
    "collapsed": false
   },
   "outputs": [],
   "source": [
    "from pandas.io.json import json_normalize\n",
    "import pandas\n",
    "\n",
    "df = json_normalize(config[\"runResults\"])\n",
    "toFillNan = [\n",
    "    \"incphp.result.executionTime.userTime\",\n",
    "    \"incphp.result.executionTime.systemTime\",\n",
    "    \"incphp.result.executionTime.returnCode\"\n",
    "]\n",
    "\n",
    "df[toFillNan] = df[toFillNan].fillna(value=0.0)\n",
    "df = df.assign(\n",
    "    time = lambda x: \n",
    "        #x[\"incphp.result.executionTime.userTime\"]\n",
    "        #+ x[\"incphp.result.executionTime.systemTime\"],\n",
    "        x['incphp.result.executionTime.wallClockTime'],\n",
    "    error = lambda x: \n",
    "        (x[\"incphp.result.executionTime.returnCode\"] != 0),\n",
    "    confId = [hash(json.dumps(experiment[\"conf\"][\"setup\"], indent=4)) for experiment in config[\"runResults\"]]\n",
    ")\n",
    "df = df.assign(name = lambda x: x.apply(computeName, axis = 1))"
   ]
  },
  {
   "cell_type": "code",
   "execution_count": null,
   "metadata": {
    "collapsed": false
   },
   "outputs": [],
   "source": [
    "list(df)"
   ]
  },
  {
   "cell_type": "code",
   "execution_count": null,
   "metadata": {
    "collapsed": false
   },
   "outputs": [],
   "source": [
    "import matplotlib.pyplot as plt\n",
    "import statistics\n",
    "\n",
    "d = df[\n",
    "      (df['error'] == False)\n",
    "    & (df['conf.setup.record'] == False)\n",
    "    & (\n",
    "        (df['incphp.parameters.alternate'] == False)\n",
    "      | (\n",
    "         (df['conf.setup.incremental'] == True)\n",
    "        )\n",
    "      )\n",
    "    & (df['conf.numPigeons'] > 6)\n",
    "]\n",
    "\n",
    "plots = list()\n",
    "for confId, data in d.groupby(\"confId\"):\n",
    "    name = data.iloc[0][\"name\"]\n",
    "    points = list()\n",
    "    maxPigeon = 0\n",
    "    maxTime = 0\n",
    "    for numPigeons, data in data.groupby('conf.numPigeons'):\n",
    "        if (len(data[\"time\"].values) > 3):\n",
    "            points.append((\n",
    "                numPigeons,\n",
    "                statistics.mean(data[\"time\"].values)\n",
    "            ))\n",
    "            if (numPigeons > maxPigeon):\n",
    "                maxPigeon = numPigeons\n",
    "                maxTime = statistics.mean(data[\"time\"].values)\n",
    "    plots.append(((maxPigeon, -maxTime), name, points))\n",
    "\n",
    "for _, name, points in sorted(plots):\n",
    "    plt.plot(*zip(*points), label=name)\n",
    "\n",
    "plt.xlabel(\"number of pigeons\")\n",
    "plt.ylabel(\"time in seconds\")\n",
    "#plt.semilogy()\n",
    "plt.legend()\n",
    "plt.savefig(imageExportPath + 'performance.svg', format='svg', bbox_inches='tight')\n",
    "plt.show()"
   ]
  },
  {
   "cell_type": "code",
   "execution_count": null,
   "metadata": {
    "collapsed": false
   },
   "outputs": [],
   "source": [
    "sorted([((2,4), \"zwa\"),((2,3), \"a\")])"
   ]
  },
  {
   "cell_type": "code",
   "execution_count": null,
   "metadata": {
    "collapsed": false
   },
   "outputs": [],
   "source": [
    "inc = sorted(df[\n",
    "      (df['conf.setup.incremental'] == True)\n",
    "    & (df['conf.setup.record'] == False)\n",
    "    & (df['conf.setup.variant.3sat'] == True)\n",
    "    & (df['conf.setup.variant.addAssumed'] == False)\n",
    "    & (df['conf.setup.variant.alternate'] == False)\n",
    "    & (df['conf.setup.variant.extendedResolution'] == False)\n",
    "    & (df['conf.numPigeons'] == 15)\n",
    "][\"time\"].values)\n",
    "\n",
    "normal = sorted(df[\n",
    "      (df['conf.setup.incremental'] == False)\n",
    "    & (df['conf.setup.record'] == False)\n",
    "    & (df['conf.setup.variant.3sat'] == True)\n",
    "    & (df['conf.setup.variant.addAssumed'] == False)\n",
    "    & (df['conf.setup.variant.alternate'] == False)\n",
    "    & (df['conf.setup.variant.extendedResolution'] == False)\n",
    "    & (df['conf.numPigeons'] == 13)\n",
    "][\"time\"].values)\n",
    "\n",
    "print(statistics.mean(inc), statistics.median(inc), statistics.stdev(inc))\n",
    "print(statistics.stdev(normal))\n",
    "list(zip(inc,normal))"
   ]
  },
  {
   "cell_type": "code",
   "execution_count": null,
   "metadata": {
    "collapsed": true
   },
   "outputs": [],
   "source": []
  },
  {
   "cell_type": "code",
   "execution_count": null,
   "metadata": {
    "collapsed": false
   },
   "outputs": [],
   "source": [
    "import matplotlib.pyplot as plt\n",
    "import statistics\n",
    "\n",
    "d = df[\n",
    "      (df['error'] == False)\n",
    "    & (df['conf.setup.record'] == False)\n",
    "    & (df['conf.setup.incremental'] == True)\n",
    "   #& (df['conf.numPigeons'] > 12)\n",
    "   #& (df['conf.setup.variant.addAssumed'] == False)\n",
    "]\n",
    "\n",
    "for confId, data in d.groupby(\"confId\"):\n",
    "    name = data.iloc[0][\"name\"]\n",
    "    for numPigeons, data in data.groupby('conf.numPigeons'):\n",
    "        pts = dict()\n",
    "        for idx, dat in data.iterrows():\n",
    "            for row in dat['incphp.result.solves']:\n",
    "                lst =  pts.get(row['makespan'], list())\n",
    "                lst.append(row['time'])\n",
    "                pts[row['makespan']] = lst\n",
    "\n",
    "        points = list()\n",
    "        for ms, times in pts.items():\n",
    "            if len(times) > 3:\n",
    "                points.append((ms, statistics.mean(times)))\n",
    "        plt.xlabel(\"number of holes\")\n",
    "        plt.ylabel(\"time in seconds\")\n",
    "        plt.plot(*zip(*points), label=name)\n",
    "        \n",
    "    print(name)\n",
    "    plt.semilogy()\n",
    "    #plt.legend(bbox_to_anchor=(2,1))\n",
    "    plt.savefig(imageExportPath + name.replace(' ','') + '.svg', format='svg', bbox_inches='tight')\n",
    "    plt.show()"
   ]
  },
  {
   "cell_type": "code",
   "execution_count": null,
   "metadata": {
    "collapsed": false
   },
   "outputs": [],
   "source": [
    "import matplotlib.pyplot as plt\n",
    "import statistics\n",
    "\n",
    "d = df[\n",
    "      (df['error'] == False)\n",
    "    & (df['conf.setup.record'] == True)\n",
    "    & (df['conf.setup.incremental'] == True)\n",
    "    & (df['conf.numPigeons'] > 3)\n",
    "]\n",
    "\n",
    "for confId, data in d.groupby(\"confId\"):\n",
    "    name = data.iloc[0][\"name\"]\n",
    "    points = list()\n",
    "    for numPigeons, data in data.groupby('conf.numPigeons'):\n",
    "        score = list()\n",
    "        for idx, dat in data.iterrows():\n",
    "            for row in dat['incphp.result.solves']:\n",
    "                if (row['makespan'] == numPigeons - 2):\n",
    "                    score.append(\n",
    "                        row['numLearnedClausesWithAssumedLiteral'] /\n",
    "                        row['numLearnedClauses']\n",
    "                    )\n",
    "#        nlc = data['incphp.result.learnedClauseEval.numLearnedClauses'].values\n",
    "#        nlcwal = data['incphp.result.learnedClauseEval.numLearnedClausesWithAssumedLiteral'].values\n",
    "#        score = list(map(lambda x: x[0]/x[1], zip(nlcwal, nlc)))\n",
    "        \n",
    "        if (len(score) > 3):\n",
    "            points.append((\n",
    "                numPigeons,\n",
    "                statistics.mean(score)\n",
    "            ))\n",
    "    ax = plt.gca()\n",
    "    ax.set_ylim([-0.05,1.05])\n",
    "    plt.xlabel(\"number of pigeons\")\n",
    "    plt.ylabel(\"ratio\")\n",
    "    plt.plot(*zip(*points), label=name)\n",
    "\n",
    "#plt.semilogy()\n",
    "plt.legend()\n",
    "plt.savefig(imageExportPath + 'clausesWithAssumed.svg', format='svg', bbox_inches='tight')\n",
    "plt.show()"
   ]
  },
  {
   "cell_type": "code",
   "execution_count": null,
   "metadata": {
    "collapsed": false
   },
   "outputs": [],
   "source": [
    "import matplotlib.pyplot as plt\n",
    "import statistics\n",
    "\n",
    "d = df[\n",
    "      (df['error'] == False)\n",
    "    & (df['conf.setup.record'] == True)\n",
    "    & (df['conf.setup.incremental'] == True)\n",
    "   #& (df['conf.setup.variant.3sat'] == False)\n",
    "   #& (df['conf.numPigeons'] > 12)\n",
    "   #& (df['conf.setup.variant.addAssumed'] == False)\n",
    "]\n",
    "\n",
    "for confId, data in d.groupby(\"confId\"):\n",
    "    for numPigeons, data in data.groupby('conf.numPigeons'):\n",
    "        name = data.iloc[0][\"name\"]\n",
    "        name += \" - \" + str(numPigeons)\n",
    "        nlc = dict()\n",
    "        nlcwal = dict()\n",
    "        pts = dict()\n",
    "        for idx, dat in data.iterrows():\n",
    "            lpts = dict()\n",
    "            for row in dat['incphp.result.solves']:\n",
    "                nlc[row['makespan']] = row['numLearnedClauses']\n",
    "                nlcwal[row['makespan']] = row['numLearnedClausesWithAssumedLiteral']\n",
    "\n",
    "            for i in reversed(sorted(nlc.keys())):\n",
    "                if (i != 1):\n",
    "                    nlc[i] = nlc[i] - nlc[i - 1]\n",
    "                    nlcwal[i] = nlcwal[i] - nlcwal[i - 1]\n",
    "\n",
    "            for i in reversed(sorted(nlc.keys())):\n",
    "                lst =  pts.get(i, list())\n",
    "                if nlc[i] > 0:\n",
    "                    lst.append(nlcwal[i] / nlc[i])\n",
    "                    pts[i] = lst\n",
    "\n",
    "        points = list()\n",
    "        for i in reversed(sorted(pts.keys())):\n",
    "            if len(pts[i]) > 3:\n",
    "                points.append((i, statistics.mean(pts[i])))\n",
    "        \n",
    "        plt.plot(*zip(*points), label=name)\n",
    "\n",
    "    #plt.semilogy()\n",
    "    plt.legend(bbox_to_anchor=(2,1))\n",
    "    plt.show()"
   ]
  },
  {
   "cell_type": "code",
   "execution_count": null,
   "metadata": {
    "collapsed": false
   },
   "outputs": [],
   "source": [
    " 'incphp.result.learnedClauseEval.numSolvesWithAssumption'\n",
    " 'incphp.result.learnedClauseEval.numSolvesWithAssumptionFound'\n",
    " 'incphp.result.learnedClauseEval.numSolvesWithSubsetAssumptionFound'\n",
    "\n",
    "import matplotlib.pyplot as plt\n",
    "import statistics\n",
    "\n",
    "d = df[\n",
    "      (df['error'] == False)\n",
    "    & (df['conf.setup.record'] == True)\n",
    "    & (df['conf.setup.incremental'] == True)\n",
    "    & (df['incphp.parameters.addAssumed'] == False)\n",
    "]\n",
    "\n",
    "for confId, data in d.groupby(\"confId\"):\n",
    "    name = data.iloc[0][\"name\"]\n",
    "    points = list()\n",
    "    for numPigeons, data in data.groupby('conf.numPigeons'):\n",
    "        score = list()\n",
    "        for idx, dat in data.iterrows():\n",
    "            for row in dat['incphp.result.solves']:\n",
    "                if (row['makespan'] == numPigeons - 2):\n",
    "                    score.append(\n",
    "                        row['numSolvesWithSubsetAssumptionFound'] /\n",
    "                        row['numSolvesWithAssumption']\n",
    "                    )\n",
    "#        nlc = data['incphp.result.learnedClauseEval.numLearnedClauses'].values\n",
    "#        nlcwal = data['incphp.result.learnedClauseEval.numLearnedClausesWithAssumedLiteral'].values\n",
    "#        score = list(map(lambda x: x[0]/x[1], zip(nlcwal, nlc)))\n",
    "        \n",
    "        if (len(score) > 3):\n",
    "            points.append((\n",
    "                numPigeons,\n",
    "                statistics.mean(score)\n",
    "            ))\n",
    "\n",
    "    plt.plot(*zip(*points), label=name)\n",
    "    \n",
    "plt.xlabel(\"number of pigeons\")\n",
    "plt.ylabel(\"ratio\")\n",
    "#plt.semilogy()\n",
    "plt.legend()\n",
    "plt.savefig(imageExportPath + 'assumedLearned.svg', format='svg', bbox_inches='tight')\n",
    "plt.show()"
   ]
  },
  {
   "cell_type": "code",
   "execution_count": null,
   "metadata": {
    "collapsed": false
   },
   "outputs": [],
   "source": [
    "import matplotlib.pyplot as plt\n",
    "import statistics\n",
    "\n",
    "d = df[\n",
    "      (df['error'] == False)\n",
    "    & (df['conf.setup.record'] == True)\n",
    "    & (df['conf.setup.incremental'] == True)\n",
    "   #& (df['conf.setup.variant.3sat'] == False)\n",
    "   #& (df['conf.numPigeons'] > 12)\n",
    "   #& (df['conf.setup.variant.addAssumed'] == False)\n",
    "]\n",
    "\n",
    "for confId, data in d.groupby(\"confId\"):\n",
    "    for numPigeons, data in data.groupby('conf.numPigeons'):\n",
    "        name = data.iloc[0][\"name\"]\n",
    "        name += \" - \" + str(numPigeons)\n",
    "        nlc = dict()\n",
    "        nlcwal = dict()\n",
    "        pts = dict()\n",
    "        for idx, dat in data.iterrows():\n",
    "            lpts = dict()\n",
    "            for row in dat['incphp.result.solves']:\n",
    "                nlc[row['makespan']] = row['numSolvesWithAssumption']\n",
    "                nlcwal[row['makespan']] = row['numSolvesWithSubsetAssumptionFound']\n",
    "\n",
    "            for i in reversed(sorted(nlc.keys())):\n",
    "                if (i != 1):\n",
    "                    nlc[i] = nlc[i] - nlc[i - 1]\n",
    "                    nlcwal[i] = nlcwal[i] - nlcwal[i - 1]\n",
    "\n",
    "            for i in reversed(sorted(nlc.keys())):\n",
    "                lst =  pts.get(i, list())\n",
    "                if nlc[i] > 0:\n",
    "                    lst.append(nlcwal[i] / nlc[i])\n",
    "                    pts[i] = lst\n",
    "\n",
    "        points = list()\n",
    "        for i in reversed(sorted(pts.keys())):\n",
    "            if len(pts[i]) > 3:\n",
    "                points.append((i, statistics.mean(pts[i])))\n",
    "        \n",
    "        plt.plot(*zip(*points), label=name)\n",
    "\n",
    "    #plt.semilogy()\n",
    "    plt.legend(bbox_to_anchor=(2,1))\n",
    "    plt.show()"
   ]
  },
  {
   "cell_type": "code",
   "execution_count": null,
   "metadata": {
    "collapsed": true
   },
   "outputs": [],
   "source": []
  },
  {
   "cell_type": "code",
   "execution_count": null,
   "metadata": {
    "collapsed": true
   },
   "outputs": [],
   "source": []
  },
  {
   "cell_type": "code",
   "execution_count": null,
   "metadata": {
    "collapsed": true
   },
   "outputs": [],
   "source": []
  }
 ],
 "metadata": {
  "kernelspec": {
   "display_name": "Python 3",
   "language": "python",
   "name": "python3"
  },
  "language_info": {
   "codemirror_mode": {
    "name": "ipython",
    "version": 3
   },
   "file_extension": ".py",
   "mimetype": "text/x-python",
   "name": "python",
   "nbconvert_exporter": "python",
   "pygments_lexer": "ipython3",
   "version": "3.6.0"
  }
 },
 "nbformat": 4,
 "nbformat_minor": 2
}

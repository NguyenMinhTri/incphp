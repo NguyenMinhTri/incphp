{
 "cells": [
  {
   "cell_type": "code",
   "execution_count": 2,
   "metadata": {
    "collapsed": true
   },
   "outputs": [],
   "source": [
    "import json\n",
    "\n",
    "with open('/home/steohan/ma/thesis/benchresults/incphp/sat-paper-run1.json', 'r') as jsonFile:\n",
    "    config = json.loads(jsonFile.read())"
   ]
  },
  {
   "cell_type": "code",
   "execution_count": 3,
   "metadata": {
    "collapsed": true
   },
   "outputs": [],
   "source": [
    "confIds = dict()\n",
    "for experiment in config[\"runResults\"]:\n",
    "    conf = json.dumps(experiment[\"conf\"][\"setup\"], indent=4)\n",
    "    confId = hash(conf)\n",
    "    confIds[confId] = conf"
   ]
  },
  {
   "cell_type": "code",
   "execution_count": 4,
   "metadata": {
    "collapsed": false
   },
   "outputs": [],
   "source": [
    "import math\n",
    "\n",
    "\n",
    "def computeName(x):\n",
    "    name = ''\n",
    "    if (x['conf.setup.incremental']):\n",
    "        name += 'incr. '    \n",
    "    if x['conf.setup.variant.3sat']:\n",
    "        name += '3SAT '\n",
    "    if x['conf.setup.variant.addAssumed']:\n",
    "        name += 'addAssumed '\n",
    "    if x['conf.setup.variant.alternate']:\n",
    "        name += 'alternate '\n",
    "    if x['conf.setup.variant.extendedResolution']:\n",
    "        name += 'extended '\n",
    "    if x['conf.setup.record']:\n",
    "        name += 'recording '\n",
    "    if name == '':\n",
    "        name = 'normal'\n",
    "    return name"
   ]
  },
  {
   "cell_type": "code",
   "execution_count": 5,
   "metadata": {
    "collapsed": false
   },
   "outputs": [],
   "source": [
    "from pandas.io.json import json_normalize\n",
    "import pandas\n",
    "\n",
    "df = json_normalize(config[\"runResults\"])\n",
    "toFillNan = [\n",
    "    \"incphp.result.executionTime.userTime\",\n",
    "    \"incphp.result.executionTime.systemTime\",\n",
    "    \"incphp.result.executionTime.returnCode\"\n",
    "]\n",
    "\n",
    "df[toFillNan] = df[toFillNan].fillna(value=0.0)\n",
    "df = df.assign(\n",
    "    time = lambda x: \n",
    "        x[\"incphp.result.executionTime.userTime\"]\n",
    "        + x[\"incphp.result.executionTime.systemTime\"],\n",
    "    error = lambda x: \n",
    "        (x[\"incphp.result.executionTime.returnCode\"] != 0),\n",
    "    confId = [hash(json.dumps(experiment[\"conf\"][\"setup\"], indent=4)) for experiment in config[\"runResults\"]]\n",
    ")\n",
    "df = df.assign(name = lambda x: x.apply(computeName, axis = 1))"
   ]
  },
  {
   "cell_type": "code",
   "execution_count": 5,
   "metadata": {
    "collapsed": false
   },
   "outputs": [
    {
     "data": {
      "text/plain": [
       "['%limits.RLIMIT_AS',\n",
       " '%limits.RLIMIT_CPU',\n",
       " 'conf.numPigeons',\n",
       " 'conf.run',\n",
       " 'conf.setup.incremental',\n",
       " 'conf.setup.record',\n",
       " 'conf.setup.solver',\n",
       " 'conf.setup.variant.3sat',\n",
       " 'conf.setup.variant.addAssumed',\n",
       " 'conf.setup.variant.alternate',\n",
       " 'conf.setup.variant.extendedResolution',\n",
       " 'incphp.parameters.3sat',\n",
       " 'incphp.parameters.addAssumed',\n",
       " 'incphp.parameters.alternate',\n",
       " 'incphp.parameters.binDir',\n",
       " 'incphp.parameters.dimspec',\n",
       " 'incphp.parameters.extendedResolution',\n",
       " 'incphp.parameters.incremental',\n",
       " 'incphp.parameters.numPigeons',\n",
       " 'incphp.parameters.print',\n",
       " 'incphp.parameters.record',\n",
       " 'incphp.parameters.solver',\n",
       " 'incphp.result.executionTime.returnCode',\n",
       " 'incphp.result.executionTime.systemTime',\n",
       " 'incphp.result.executionTime.userTime',\n",
       " 'incphp.result.executionTime.wallClockTime',\n",
       " 'incphp.result.learnedClauseEval.numLearnedClauses',\n",
       " 'incphp.result.learnedClauseEval.numLearnedClausesWithAssumedLiteral',\n",
       " 'incphp.result.learnedClauseEval.numSolvesWithAssumption',\n",
       " 'incphp.result.learnedClauseEval.numSolvesWithAssumptionFound',\n",
       " 'incphp.result.learnedClauseEval.numSolvesWithSubsetAssumptionFound',\n",
       " 'incphp.result.solves',\n",
       " 'incphp.run.name',\n",
       " 'incphp.run.parameters.command',\n",
       " 'incphp.run.parameters.externalUsedConfig',\n",
       " 'incphp.run.parameters.runInfoTo',\n",
       " 'path',\n",
       " 'tools',\n",
       " 'confId',\n",
       " 'error',\n",
       " 'time',\n",
       " 'name']"
      ]
     },
     "execution_count": 5,
     "metadata": {},
     "output_type": "execute_result"
    }
   ],
   "source": [
    "list(df)"
   ]
  },
  {
   "cell_type": "code",
   "execution_count": 39,
   "metadata": {
    "collapsed": false
   },
   "outputs": [
    {
     "data": {
      "image/png": "[encoded data removed]",
      "text/plain": [
       "<matplotlib.figure.Figure at 0x7fb1fb461748>"
      ]
     },
     "metadata": {},
     "output_type": "display_data"
    }
   ],
   "source": [
    "import matplotlib.pyplot as plt\n",
    "import statistics\n",
    "\n",
    "d = df[\n",
    "      (df['error'] == False)\n",
    "    & (df['conf.setup.record'] == False)\n",
    "    #& (df['conf.run'] == 2)\n",
    "    & (\n",
    "        (df['incphp.parameters.alternate'] == False)\n",
    "      | (\n",
    "           (df['incphp.parameters.addAssumed'] == True)\n",
    "         & (df['conf.setup.incremental'] == True)\n",
    "        )\n",
    "      )\n",
    "    & (df['conf.numPigeons'] > 6)\n",
    "]\n",
    "\n",
    "for confId, data in d.groupby(\"confId\"):\n",
    "    name = data.iloc[0][\"name\"]\n",
    "    points = list()\n",
    "    for numPigeons, data in data.groupby('conf.numPigeons'):\n",
    "        if (len(data[\"time\"].values) > 3):\n",
    "            points.append((\n",
    "                numPigeons,\n",
    "                statistics.mean(data[\"time\"].values)\n",
    "            ))\n",
    "    \n",
    "    plt.plot(*zip(*points), label=name)\n",
    "\n",
    "#plt.semilogy()\n",
    "plt.legend(bbox_to_anchor=(2,1))\n",
    "plt.show()"
   ]
  },
  {
   "cell_type": "code",
   "execution_count": null,
   "metadata": {
    "collapsed": true
   },
   "outputs": [],
   "source": []
  }
 ],
 "metadata": {
  "kernelspec": {
   "display_name": "Python 3",
   "language": "python",
   "name": "python3"
  },
  "language_info": {
   "codemirror_mode": {
    "name": "ipython",
    "version": 3
   },
   "file_extension": ".py",
   "mimetype": "text/x-python",
   "name": "python",
   "nbconvert_exporter": "python",
   "pygments_lexer": "ipython3",
   "version": "3.6.0"
  }
 },
 "nbformat": 4,
 "nbformat_minor": 2
}
